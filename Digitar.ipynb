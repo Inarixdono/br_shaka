{
 "cells": [
  {
   "cell_type": "code",
   "execution_count": 2,
   "id": "599636dd",
   "metadata": {},
   "outputs": [],
   "source": [
    "import pandas as pd\n",
    "import pyperclip as ctrl\n",
    "from selenium import webdriver\n",
    "from selenium.webdriver.chrome.service import Service\n",
    "from selenium.webdriver.common.keys import Keys\n",
    "from webdriver_manager.chrome import ChromeDriverManager\n",
    "import time"
   ]
  },
  {
   "cell_type": "code",
   "execution_count": 3,
   "id": "95f0648e",
   "metadata": {},
   "outputs": [],
   "source": [
    "driver = webdriver.Chrome(service=Service(ChromeDriverManager().install()))\n",
    "driver.get(\"https://www.achievemis.org/\")"
   ]
  },
  {
   "cell_type": "code",
   "execution_count": 3,
   "id": "872587a6",
   "metadata": {},
   "outputs": [],
   "source": [
    "driver.find_element('xpath','//*[@id=\"txtUsername\"]').send_keys(\"jenielwtf@gmail.com\")\n",
    "driver.find_element('xpath','//*[@id=\"txtPassword\"]').send_keys(\"1qazxsw2\")\n",
    "driver.find_element('xpath','//*[@id=\"btnLogin\"]').click()"
   ]
  },
  {
   "cell_type": "code",
   "execution_count": 7,
   "id": "1577a30c",
   "metadata": {
    "scrolled": true
   },
   "outputs": [],
   "source": [
    "# ESCUELA\n",
    "\n",
    "driver.find_element('xpath','//*[@id=\"MainContent_cboEnrolledInSchool\"]').click()\n",
    "driver.find_element('xpath','//*[@id=\"MainContent_cboEnrolledInSchool\"]').send_keys(Keys.DOWN + Keys.DOWN + Keys.DOWN + Keys.ENTER)\n",
    "driver.find_element('xpath','//*[@id=\"MainContent_cboEnrolledEconomicActivity\"]').click()\n",
    "driver.find_element('xpath','//*[@id=\"MainContent_cboEnrolledEconomicActivity\"]').send_keys(Keys.DOWN + Keys.DOWN + Keys.DOWN + Keys.ENTER)\n",
    "\n",
    "driver.find_element('xpath','//*[@id=\"MainContent_mainPanal\"]/a[7]').click()\n",
    "\n",
    "time.sleep(0.3)\n",
    "\n",
    "# MARCAR SERVICIOS\n",
    "\n",
    "driver.find_element('xpath','//*[@id=\"MainContent_cboFoodDeliveryservice\"]').click()\n",
    "driver.find_element('xpath','//*[@id=\"MainContent_cboFoodDeliveryservice\"]').send_keys(Keys.DOWN + Keys.ENTER)\n",
    "\n",
    "driver.find_element('xpath','//*[@id=\"MainContent_cboFoodDeliveryservice_dnr\"]').click()\n",
    "driver.find_element('xpath','//*[@id=\"MainContent_cboFoodDeliveryservice_dnr\"]').send_keys(Keys.DOWN + Keys.DOWN + Keys.ENTER)\n",
    "\n",
    "driver.find_element('xpath','//*[@id=\"MainContent_btnsave\"]').click()"
   ]
  },
  {
   "cell_type": "code",
   "execution_count": 6,
   "id": "dddaacdd",
   "metadata": {},
   "outputs": [],
   "source": [
    "# SCROLL & SELECCIONAR NUEVO BENEFICIARIO \n",
    "\n",
    "driver.execute_script(\"window.scrollTo(0, 1200)\")\n",
    "\n",
    "driver.find_element('xpath','//*[@id=\"MainContent_cbohhMember\"]').click()\n",
    "driver.find_element('xpath','//*[@id=\"MainContent_cbohhMember\"]').send_keys(Keys.DOWN + Keys.ENTER)"
   ]
  },
  {
   "cell_type": "code",
   "execution_count": 1040,
   "id": "934dc4d9",
   "metadata": {},
   "outputs": [],
   "source": [
    "# CARGAR NUEVOaaa a06\n",
    "\n",
    "driver.get('https://achievemis.org/DataEntry/service_delivery.aspx?tokenID=&action=')"
   ]
  }
 ],
 "metadata": {
  "kernelspec": {
   "display_name": "Python 3.9.13 ('base')",
   "language": "python",
   "name": "python3"
  },
  "language_info": {
   "codemirror_mode": {
    "name": "ipython",
    "version": 3
   },
   "file_extension": ".py",
   "mimetype": "text/x-python",
   "name": "python",
   "nbconvert_exporter": "python",
   "pygments_lexer": "ipython3",
   "version": "3.9.13"
  },
  "vscode": {
   "interpreter": {
    "hash": "0ed8b1f1204e3ec9fd00160a1836bd979d4552f7e99d1a18dc9610716eedd92b"
   }
  }
 },
 "nbformat": 4,
 "nbformat_minor": 5
}
