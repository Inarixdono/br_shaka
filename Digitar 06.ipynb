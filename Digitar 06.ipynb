{
 "cells": [
  {
   "cell_type": "code",
   "execution_count": null,
   "metadata": {},
   "outputs": [],
   "source": [
    "# Librerias \n",
    "\n",
    "import pandas as pd\n",
    "import pyperclip as ctrl\n",
    "from selenium import webdriver\n",
    "from selenium.webdriver.chrome.service import Service\n",
    "from selenium.webdriver.common.keys import Keys\n",
    "from webdriver_manager.chrome import ChromeDriverManager\n",
    "from selenium.webdriver.support.wait import WebDriverWait\n",
    "from selenium.webdriver.support import expected_conditions as EC\n",
    "from selenium.webdriver.support.ui import Select\n",
    "from selenium.webdriver.common.by import By\n",
    "from selenium.webdriver.common.alert import Alert\n",
    "from selenium.common.exceptions import TimeoutException\n",
    "import time\n",
    "from datetime import datetime\n",
    "\n",
    "# Origen de información\n",
    "\n",
    "FamSalidas = pd.read_csv('Archivos\\mfamilias.csv', delimiter = ';', index_col = 'Hogar')['ID'].tolist()\n",
    "BenSalidos = pd.read_csv('Archivos\\salidos.csv', delimiter = ';', index_col = 'Ben')['ID'].tolist()\n",
    "bd = pd.read_csv('Archivos\\caminos.csv', delimiter = \";\", index_col = \"ID\",)\n",
    "dig = pd.read_csv('Archivos\\BD.csv', delimiter = \";\", index_col = \"ID\",)\n",
    "\n",
    "# Funciones\n",
    "    \n",
    "def login(): # Iniciar sesion\n",
    "    driver.find_element('xpath','//*[@id=\"txtUsername\"]').send_keys(\"jenielwtf@gmail.com\")\n",
    "    driver.find_element('xpath','//*[@id=\"txtPassword\"]').send_keys(\"1qazxsw2\")\n",
    "    driver.find_element('xpath','//*[@id=\"btnLogin\"]').click()    \n",
    "    \n",
    "def firma(): #Firma y plan de caso\n",
    "    Select(driver.find_element('xpath',bd.iloc[5,1])).select_by_visible_text(\"Si\")\n",
    "    firma = driver.find_element('xpath',bd.iloc[6,1])\n",
    "    Select(firma).select_by_value(dig.iloc[col,5])\n",
    "    time.sleep(1)\n",
    "    Select(driver.find_element('xpath',bd.iloc[7,1])).select_by_visible_text(\"Si\")\n",
    "    \n",
    "def visita(): # Motivo y lugar de visita\n",
    "    if dig.iloc[col,2] == \"Visita regular\":  # Motivo de la Visita\n",
    "        Select(driver.find_element('xpath',bd.iloc[3,1])).select_by_value(\"1\") \n",
    "    elif dig.iloc[col,2] == \"Seguimiento\":\n",
    "        Select(driver.find_element('xpath',bd.iloc[3,1])).select_by_value(\"2\")\n",
    "    elif dig.iloc[col,2] == \"Monitoreo\":\n",
    "        Select(driver.find_element('xpath',bd.iloc[3,1])).select_by_value(\"3\")\n",
    "            \n",
    "    if dig.iloc[col,3] == \"SAI\":  # Lugar del servicio\n",
    "        Select(driver.find_element('xpath',bd.iloc[4,1])).select_by_value(\"1\")\n",
    "    elif dig.iloc[col,3] == \"HOGAR\":\n",
    "        Select(driver.find_element('xpath',bd.iloc[4,1])).select_by_value(\"2\")\n",
    "        \n",
    "def beneficiario(): # Hace un recorrido entre los beneficiarios y le va marcando su servicio \n",
    "    coun = 1\n",
    "    miembros = driver.find_element('xpath','//*[@id=\"MainContent_cbohhMember\"]')\n",
    "    limit = len(miembros.text.split(\"\\n\"))-1\n",
    "    \n",
    "    while coun < limit:      \n",
    "        miembros = driver.find_element('xpath','//*[@id=\"MainContent_cbohhMember\"]')\n",
    "        Select(miembros).select_by_index(coun)     \n",
    "        \n",
    "        try:\n",
    "            WebDriverWait(driver,3).until(EC.alert_is_present())\n",
    "            alert = driver.switch_to.alert\n",
    "            alert.accept()\n",
    "            print(\"Beneficiario con 21 años\")\n",
    "        except TimeoutException:\n",
    "            miembros = driver.find_element('xpath','//*[@id=\"MainContent_cbohhMember\"]')\n",
    "            Select(miembros).select_by_index(coun)\n",
    "            flag = miembros.get_attribute('value') in BenSalidos              \n",
    "            if flag == False:     \n",
    "                edad = driver.find_element('xpath','//*[@id=\"MainContent_txtAge\"]').get_attribute(\"value\")        \n",
    "                escuela = driver.find_element('xpath','//*[@id=\"MainContent_cboEnrolledInSchool\"]')\n",
    "                actividad = driver.find_element('xpath','//*[@id=\"MainContent_cboEnrolledEconomicActivity\"]')\n",
    "                if int(edad) > 17 and int(edad) < 21:\n",
    "                    Select(escuela).select_by_index(1)\n",
    "                    Select(actividad).select_by_index(2)\n",
    "                else:\n",
    "                    Select(escuela).select_by_index(3)\n",
    "                    Select(actividad).select_by_index(3)\n",
    "                driver.find_element('xpath','//*[@id=\"MainContent_mainPanal\"]/a[7]').click() # Aquí empieza a servir\n",
    "                Select(driver.find_element('xpath','//*[@id=\"MainContent_cboFoodDeliveryservice\"]')).select_by_index(1)\n",
    "                Select(driver.find_element('xpath','//*[@id=\"MainContent_cboFoodDeliveryservice_dnr\"]')).select_by_index(9)\n",
    "                time.sleep(0.5)\n",
    "                driver.find_element('xpath','//*[@id=\"MainContent_btnsave\"]').click() # Guarda el servicio\n",
    "                wait.until(EC.alert_is_present()).accept() # Espera\n",
    "            else:\n",
    "                print('Beneficiario salido')      \n",
    "        \n",
    "        coun += 1\n",
    "    \n",
    "    print('Servicio digitado')\n",
    "    \n"
   ]
  },
  {
   "cell_type": "code",
   "execution_count": 2,
   "metadata": {},
   "outputs": [
    {
     "name": "stderr",
     "output_type": "stream",
     "text": [
      "[WDM] - Downloading: 100%|██████████| 6.79M/6.79M [00:07<00:00, 1.01MB/s]\n"
     ]
    }
   ],
   "source": [
    "# Abrir navegador e iniciar sesion en el MIS\n",
    "\n",
    "driver = webdriver.Chrome(service=Service(ChromeDriverManager().install()))\n",
    "driver.get(\"https://pactbrmis.org/Account/Login.aspx\")\n",
    "login()\n",
    "wait = WebDriverWait(driver,4)"
   ]
  },
  {
   "cell_type": "code",
   "execution_count": 4,
   "metadata": {},
   "outputs": [
    {
     "name": "stdout",
     "output_type": "stream",
     "text": [
      "Servicio digitado\n"
     ]
    }
   ],
   "source": [
    "beneficiario()"
   ]
  },
  {
   "cell_type": "code",
   "execution_count": null,
   "metadata": {},
   "outputs": [],
   "source": [
    "# Inicio Para digitar servicios que aplican a toda la familia \n",
    "\n",
    "col = 16 # Realmente es fila\n",
    "while col < 18:\n",
    "\n",
    "    # Iniciar servicios \n",
    "\n",
    "    driver.get(\"https://pactbrmis.org/DataEntry/service_delivery.aspx?tokenID=&action=\")\n",
    "    #time.sleep(1)\n",
    "\n",
    "    # Hogar\n",
    "\n",
    "    driver.find_element('xpath',bd.iloc[0,1]).click()\n",
    "    driver.find_element('xpath', bd.iloc[1,1]).send_keys(dig.iloc[col,0], Keys.ENTER)\n",
    "\n",
    "    # Fecha\n",
    "    \n",
    "    set_fecha = datetime.strptime(dig.iloc[col,1], '%d/%m/%Y')\n",
    "    fecha = set_fecha.strftime('%d/%m/%Y')\n",
    "    ctrl.copy(fecha)\n",
    "    driver.find_element('xpath',bd.iloc[2,1]).send_keys(Keys.CONTROL, 'v', Keys.ENTER)\n",
    "\n",
    "    visita()\n",
    "    firma()\n",
    "    driver.find_element('xpath','//*[@id=\"MainContent_btnsaveMain\"]').click()\n",
    "    wait.until(EC.alert_is_present()).accept()\n",
    "    beneficiario()\n",
    "    print('Siguiente servicio')    \n",
    "    col += 1\n",
    "    \n",
    "print('Se digitaron todos los servicios')"
   ]
  },
  {
   "cell_type": "code",
   "execution_count": null,
   "metadata": {},
   "outputs": [],
   "source": [
    "set_fecha = datetime.strptime(dig.iloc[col,1], '%d/%m/%Y')\n",
    "fecha = set_fecha.strftime('%d/%m/%Y')\n",
    "\n",
    "print(fecha)"
   ]
  },
  {
   "cell_type": "code",
   "execution_count": null,
   "metadata": {},
   "outputs": [],
   "source": [
    "driver.quit()"
   ]
  },
  {
   "cell_type": "code",
   "execution_count": null,
   "metadata": {},
   "outputs": [],
   "source": [
    "n = int(input())\n",
    "parte1 = ((-1) ** (n + 1))\n",
    "parte2 = ((n ** 2) / ((3 * n) - 1))\n",
    "print(str(parte1 * parte2))"
   ]
  },
  {
   "cell_type": "markdown",
   "metadata": {},
   "source": []
  }
 ],
 "metadata": {
  "kernelspec": {
   "display_name": "Python 3.9.13 ('base')",
   "language": "python",
   "name": "python3"
  },
  "language_info": {
   "codemirror_mode": {
    "name": "ipython",
    "version": 3
   },
   "file_extension": ".py",
   "mimetype": "text/x-python",
   "name": "python",
   "nbconvert_exporter": "python",
   "pygments_lexer": "ipython3",
   "version": "3.9.13"
  },
  "orig_nbformat": 4,
  "vscode": {
   "interpreter": {
    "hash": "0ed8b1f1204e3ec9fd00160a1836bd979d4552f7e99d1a18dc9610716eedd92b"
   }
  }
 },
 "nbformat": 4,
 "nbformat_minor": 2
}
