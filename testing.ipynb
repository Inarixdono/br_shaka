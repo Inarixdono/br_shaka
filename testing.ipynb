{
 "cells": [
  {
   "cell_type": "code",
<<<<<<< HEAD
   "execution_count": 15,
   "metadata": {},
   "outputs": [],
   "source": [
    "import Funciones as do "
=======
   "execution_count": null,
   "metadata": {},
   "outputs": [],
   "source": [
<<<<<<< HEAD
    "import Funciones as do\n",
    "do.login()"
>>>>>>> update
   ]
  },
  {
   "cell_type": "code",
<<<<<<< HEAD
   "execution_count": 16,
   "metadata": {},
   "outputs": [],
   "source": [
    "do.login()"
=======
   "execution_count": null,
   "metadata": {},
   "outputs": [],
   "source": [
    "col = 82\n",
    "fin = 85\n",
    "while col < fin:\n",
    "    do.encabezado(col)\n",
    "    do.beneficiario(col,fin)\n",
    "    col += 1"
   ]
  },
  {
   "cell_type": "code",
   "execution_count": 22,
   "metadata": {},
   "outputs": [
    {
     "name": "stdout",
     "output_type": "stream",
     "text": [
      "2.4\n"
     ]
    }
   ],
   "source": [
    "import pandas as pd\n",
=======
    "from formulario_06 import Servicio\n",
    "from funciones import lista\n",
>>>>>>> update
    "\n",
    "sesion = Servicio()"
   ]
  },
  {
   "cell_type": "code",
   "execution_count": null,
   "metadata": {},
   "outputs": [],
   "source": [
<<<<<<< HEAD
    "col = 0\n",
    "do.beneficiario(col,fin)"
>>>>>>> update
=======
    "familias_serviddas = lista('Hogar')\n",
    "\n",
    "for i in range(19 , len(familias_serviddas)): #len(sesion.HOGAR)\n",
    "    if not familias_serviddas[i] in lista('Hogar','FamSalidas'):\n",
    "        sesion.encabezado(i)\n",
    "        sesion.rotar_beneficiario(i)\n",
    "        print(f'Servicio {i + 1} de {len(familias_serviddas)} digitado')\n",
    "    elif input('Familia salida, desea continuar?') == 's':\n",
    "        sesion.rotar_beneficiario(i)\n",
    "    else: print('Familia salida, no servida.')"
>>>>>>> update
   ]
  },
  {
   "cell_type": "code",
   "execution_count": 6,
   "metadata": {},
   "outputs": [],
   "source": [
    "sesion.cerrar()"
   ]
  }
 ],
 "metadata": {
  "kernelspec": {
   "display_name": "Python 3",
   "language": "python",
   "name": "python3"
  },
  "language_info": {
   "codemirror_mode": {
    "name": "ipython",
    "version": 3
   },
   "file_extension": ".py",
   "mimetype": "text/x-python",
   "name": "python",
   "nbconvert_exporter": "python",
   "pygments_lexer": "ipython3",
   "version": "3.11.3"
  },
  "orig_nbformat": 4
 },
 "nbformat": 4,
 "nbformat_minor": 2
}
