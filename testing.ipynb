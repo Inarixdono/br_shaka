{
 "cells": [
  {
   "cell_type": "code",
   "execution_count": null,
   "metadata": {},
   "outputs": [],
   "source": [
    "from formulario_06 import Servicio\n",
    "\n",
    "sesion = Servicio()"
   ]
  },
  {
   "cell_type": "code",
   "execution_count": null,
   "metadata": {},
   "outputs": [],
   "source": [
    "for i in range(7 ,len(sesion.HOGAR)):\n",
    "    if not sesion.HOGAR[i] in sesion.lista('Hogar','FamSalidas'):\n",
    "        sesion.encabezado(i)\n",
    "        sesion.beneficiario(i)\n",
    "        print(f'Servicio {i + 1} de {len(sesion.HOGAR)} digitado')\n",
    "    elif input('Familia salida, desea continuar?') == 's':\n",
    "        sesion.beneficiario(i)\n",
    "    else: print('Familia salida, no servida.')"
   ]
  },
  {
   "cell_type": "code",
   "execution_count": null,
   "metadata": {},
   "outputs": [],
   "source": [
    "sesion.cerrar()"
   ]
  }
 ],
 "metadata": {
  "kernelspec": {
   "display_name": "Python 3",
   "language": "python",
   "name": "python3"
  },
  "language_info": {
   "codemirror_mode": {
    "name": "ipython",
    "version": 3
   },
   "file_extension": ".py",
   "mimetype": "text/x-python",
   "name": "python",
   "nbconvert_exporter": "python",
   "pygments_lexer": "ipython3",
   "version": "3.11.3"
  },
  "orig_nbformat": 4
 },
 "nbformat": 4,
 "nbformat_minor": 2
}
