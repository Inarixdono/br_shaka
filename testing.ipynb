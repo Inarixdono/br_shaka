{
 "cells": [
  {
   "cell_type": "code",
   "execution_count": null,
   "metadata": {},
   "outputs": [],
   "source": [
    "from formulario_06 import Servicio\n",
    "\n",
    "sesion = Servicio()"
   ]
  },
  {
   "cell_type": "code",
   "execution_count": null,
   "metadata": {},
   "outputs": [],
   "source": [
    "for i in range(0 , 9): #len(sesion.HOGAR)\n",
    "    if not sesion.HOGAR[i] in sesion.lista('Hogar','FamSalidas'):\n",
    "        sesion.encabezado(i)\n",
    "        sesion.rotar_beneficiario(i)\n",
    "        print(f'Servicio {i + 1} de {len(sesion.HOGAR)} digitado')\n",
    "    elif input('Familia salida, desea continuar?') == 's':\n",
    "        sesion.beneficiario(i)\n",
    "    else: print('Familia salida, no servida.')"
   ]
  },
  {
   "cell_type": "code",
   "execution_count": null,
   "metadata": {},
   "outputs": [],
   "source": [
    "sesion.rotar_beneficiario(21)"
   ]
  },
  {
   "cell_type": "code",
   "execution_count": 48,
   "metadata": {},
   "outputs": [
    {
     "data": {
      "text/plain": [
       "'28/06/2023'"
      ]
     },
     "execution_count": 48,
     "metadata": {},
     "output_type": "execute_result"
    }
   ],
   "source": [
    "from datetime import datetime\n",
    "\n",
    "hoy = datetime.now().strftime('%d/%m/%Y')\n",
    "hoy"
   ]
  },
  {
   "cell_type": "code",
   "execution_count": 68,
   "metadata": {},
   "outputs": [],
   "source": [
    "def enviar_fecha(fecha, permite_entrada = False):\n",
    "\n",
    "    if len(fecha) <= 2: fecha = datetime.strptime(fecha + hoy[2:], '%d/%m/%Y').strftime('%d/%m/%Y')\n",
    "    elif len(fecha) <= 5: fecha = datetime.strptime(fecha + hoy[5:], '%d/%m/%Y').strftime('%d/%m/%Y')\n",
    "    elif len(fecha) <= 8: fecha = datetime.strptime(fecha, '%d/%m/%y').strftime('%d/%m/%Y')\n",
    "    else: fecha = datetime.strptime(fecha, '%d/%m/%Y').strftime('%d/%m/%Y')\n",
    "\n",
    "    if permite_entrada: print('inyectar', fecha)\n",
    "    else: print('pegar', fecha)\n",
    "\n"
   ]
  },
  {
   "cell_type": "code",
   "execution_count": null,
   "metadata": {},
   "outputs": [],
   "source": [
    "len('02/02/23')"
   ]
  },
  {
   "cell_type": "code",
   "execution_count": 70,
   "metadata": {},
   "outputs": [
    {
     "name": "stdout",
     "output_type": "stream",
     "text": [
      "inyectar 02/05/2023\n"
     ]
    }
   ],
   "source": [
    "enviar_fecha('2/05/2023', True)"
   ]
  },
  {
   "cell_type": "code",
   "execution_count": null,
   "metadata": {},
   "outputs": [],
   "source": [
    "sesion.cerrar()"
   ]
  }
 ],
 "metadata": {
  "kernelspec": {
   "display_name": "Python 3",
   "language": "python",
   "name": "python3"
  },
  "language_info": {
   "codemirror_mode": {
    "name": "ipython",
    "version": 3
   },
   "file_extension": ".py",
   "mimetype": "text/x-python",
   "name": "python",
   "nbconvert_exporter": "python",
   "pygments_lexer": "ipython3",
   "version": "3.11.3"
  },
  "orig_nbformat": 4
 },
 "nbformat": 4,
 "nbformat_minor": 2
}
