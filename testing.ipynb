{
 "cells": [
  {
   "cell_type": "code",
<<<<<<< HEAD
   "execution_count": 15,
   "metadata": {},
   "outputs": [],
   "source": [
    "import Funciones as do "
=======
   "execution_count": null,
   "metadata": {},
   "outputs": [],
   "source": [
    "import Funciones as do\n",
    "do.login()"
>>>>>>> update
   ]
  },
  {
   "cell_type": "code",
<<<<<<< HEAD
   "execution_count": 16,
   "metadata": {},
   "outputs": [],
   "source": [
    "do.login()"
=======
   "execution_count": null,
   "metadata": {},
   "outputs": [],
   "source": [
    "col = 82\n",
    "fin = 85\n",
    "while col < fin:\n",
    "    do.encabezado(col)\n",
    "    do.beneficiario(col,fin)\n",
    "    col += 1"
   ]
  },
  {
   "cell_type": "code",
   "execution_count": 22,
   "metadata": {},
   "outputs": [
    {
     "name": "stdout",
     "output_type": "stream",
     "text": [
      "2.4\n"
     ]
    }
   ],
   "source": [
    "import pandas as pd\n",
    "\n",
    "SERV1 = pd.read_csv('Archivos\\Servir.csv', delimiter = \";\", index_col = \"ID\",dtype= str)['Serv1'].tolist()\n",
    "print(float(SERV1[0])+1)\n"
   ]
  },
  {
   "cell_type": "code",
   "execution_count": null,
   "metadata": {},
   "outputs": [],
   "source": [
    "col = 0\n",
    "do.beneficiario(col,fin)"
>>>>>>> update
   ]
  },
  {
   "cell_type": "code",
   "execution_count": null,
   "metadata": {},
   "outputs": [],
   "source": [
    "do.driver.quit()"
   ]
  }
 ],
 "metadata": {
  "kernelspec": {
   "display_name": "Python 3",
   "language": "python",
   "name": "python3"
  },
  "language_info": {
   "codemirror_mode": {
    "name": "ipython",
    "version": 3
   },
   "file_extension": ".py",
   "mimetype": "text/x-python",
   "name": "python",
   "nbconvert_exporter": "python",
   "pygments_lexer": "ipython3",
   "version": "3.11.3"
  },
  "orig_nbformat": 4
 },
 "nbformat": 4,
 "nbformat_minor": 2
}
