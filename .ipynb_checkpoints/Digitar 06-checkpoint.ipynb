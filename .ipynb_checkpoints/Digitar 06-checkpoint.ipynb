{
 "cells": [
  {
   "cell_type": "code",
   "execution_count": 17,
   "id": "60c561d3",
   "metadata": {},
   "outputs": [],
   "source": [
    "# Librerias \n",
    "\n",
    "import pandas as pd\n",
    "import pyperclip as ctrl\n",
    "from selenium import webdriver\n",
    "from selenium.webdriver.chrome.service import Service\n",
    "from selenium.webdriver.common.keys import Keys\n",
    "from webdriver_manager.chrome import ChromeDriverManager\n",
    "from selenium.webdriver.support.wait import WebDriverWait\n",
    "from selenium.webdriver.support import expected_conditions as EC\n",
    "from selenium.webdriver.support.ui import Select\n",
    "from selenium.webdriver.common.by import By\n",
    "from selenium.webdriver.common.alert import Alert\n",
    "from selenium.common.exceptions import TimeoutException\n",
    "import time\n",
    "\n",
    "# Origen de información\n",
    "\n",
    "FamSalidas = pd.read_csv('familias salidas.csv', delimiter = ';', index_col = 'Hogar')['ID'].tolist()\n",
    "BenSalidos = pd.read_csv('salidos.csv', delimiter = ';', index_col = 'Ben')['ID'].tolist()\n",
    "bd = pd.read_csv('caminos.csv', delimiter = \";\", index_col = \"ID\",)\n",
    "dig = pd.read_csv('BD.csv', delimiter = \";\", index_col = \"ID\",)\n",
    "\n",
    "# Funciones\n",
    "    \n",
    "def login(): # Iniciar sesion\n",
    "    driver.find_element('xpath','//*[@id=\"txtUsername\"]').send_keys(\"jenielwtf@gmail.com\")\n",
    "    driver.find_element('xpath','//*[@id=\"txtPassword\"]').send_keys(\"1qazxsw2\")\n",
    "    driver.find_element('xpath','//*[@id=\"btnLogin\"]').click()    \n",
    "    \n",
    "def firma(): #Firma y plan de caso\n",
    "    Select(driver.find_element('xpath',bd.iloc[5,1])).select_by_visible_text(\"Si\")\n",
    "    firma = driver.find_element('xpath',bd.iloc[6,1])\n",
    "    Select(firma).select_by_value(dig.iloc[col,5])\n",
    "    time.sleep(2)\n",
    "    Select(driver.find_element('xpath',bd.iloc[7,1])).select_by_visible_text(\"Si\")\n",
    "    \n",
    "def visita(): # Motivo y lugar de visita\n",
    "    if dig.iloc[col,2] == \"Visita regular\":  # Motivo de la Visita\n",
    "        Select(driver.find_element('xpath',bd.iloc[3,1])).select_by_value(\"1\") \n",
    "    elif dig.iloc[col,2] == \"Seguimiento\":\n",
    "        Select(driver.find_element('xpath',bd.iloc[3,1])).select_by_value(\"2\")\n",
    "    elif dig.iloc[col,2] == \"Monitoreo\":\n",
    "        Select(driver.find_element('xpath',bd.iloc[3,1])).select_by_value(\"3\")\n",
    "            \n",
    "    if dig.iloc[col,3] == \"SAI\":  # Lugar del servicio\n",
    "        Select(driver.find_element('xpath',bd.iloc[4,1])).select_by_value(\"1\")\n",
    "    elif dig.iloc[col,3] == \"HOGAR\":\n",
    "        Select(driver.find_element('xpath',bd.iloc[4,1])).select_by_value(\"2\")\n",
    "        \n",
    "def beneficiario(): # Hace un recorrido entre los beneficiarios y le va marcando su servicio \n",
    "    coun = 1\n",
    "    miembros = driver.find_element('xpath','//*[@id=\"MainContent_cbohhMember\"]')\n",
    "    limit = len(miembros.text.split(\"\\n\"))-1\n",
    "    \n",
    "    while coun < limit:      \n",
    "        miembros = driver.find_element('xpath','//*[@id=\"MainContent_cbohhMember\"]')\n",
    "        Select(miembros).select_by_index(coun)     \n",
    "        \n",
    "        try:\n",
    "            WebDriverWait(driver,3).until(EC.alert_is_present())\n",
    "            alert = driver.switch_to.alert\n",
    "            alert.accept()\n",
    "            print(\"Beneficiario con 21 años\")\n",
    "        except TimeoutException:\n",
    "            miembros = driver.find_element('xpath','//*[@id=\"MainContent_cbohhMember\"]')\n",
    "            Select(miembros).select_by_index(coun)\n",
    "            flag = miembros.get_attribute('value') in BenSalidos              \n",
    "            if flag == False:     \n",
    "                edad = driver.find_element('xpath','//*[@id=\"MainContent_txtAge\"]').get_attribute(\"value\")        \n",
    "                escuela = driver.find_element('xpath','//*[@id=\"MainContent_cboEnrolledInSchool\"]')\n",
    "                actividad = driver.find_element('xpath','//*[@id=\"MainContent_cboEnrolledEconomicActivity\"]')\n",
    "                if int(edad) > 17 and int(edad) < 21:\n",
    "                    Select(escuela).select_by_index(1)\n",
    "                    Select(actividad).select_by_index(2)\n",
    "                else:\n",
    "                    Select(escuela).select_by_index(3)\n",
    "                    Select(actividad).select_by_index(3)\n",
    "                #driver.find_element('xpath','//*[@id=\"MainContent_mainPanal\"]/a[7]').click() # Aquí empieza a servir\n",
    "                #Select(driver.find_element('xpath','//*[@id=\"MainContent_cboFoodDeliveryservice\"]')).select_by_index(1)\n",
    "                #Select(driver.find_element('xpath','//*[@id=\"MainContent_cboFoodDeliveryservice_dnr\"]')).select_by_index(2)\n",
    "                #time.sleep(0.5)\n",
    "                #driver.find_element('xpath','//*[@id=\"MainContent_btnsave\"]').click() # Guarda el servicio\n",
    "                #wait.until(EC.alert_is_present()).accept() # Espera\n",
    "            else:\n",
    "                print('Beneficiario salido')      \n",
    "        \n",
    "        coun += 1\n",
    "    \n",
    "    print('Servicio digitado')\n",
    "    \n"
   ]
  },
  {
   "cell_type": "code",
   "execution_count": 10,
   "id": "243384dd",
   "metadata": {},
   "outputs": [],
   "source": [
    "# Abrir navegador e iniciar sesion en el MIS\n",
    "\n",
    "driver = webdriver.Chrome(service=Service(ChromeDriverManager().install()))\n",
    "driver.get(\"https://www.achievemis.org/\")\n",
    "login()\n",
    "wait = WebDriverWait(driver,4)\n"
   ]
  },
  {
   "cell_type": "code",
   "execution_count": 79,
   "id": "735a25da-1b52-49d6-976c-ebc0570742f2",
   "metadata": {},
   "outputs": [],
   "source": [
    "def beneficiario():\n",
    "    \n",
    "    coun = 1\n",
    "    miembros = driver.find_element('xpath','//*[@id=\"MainContent_cbohhMember\"]')\n",
    "    limit = len(miembros.text.split(\"\\n\"))-1\n",
    "    \n",
    "    while coun < limit:      \n",
    "        miembros = driver.find_element('xpath','//*[@id=\"MainContent_cbohhMember\"]')\n",
    "        Select(miembros).select_by_index(coun)     \n",
    "        \n",
    "        try:\n",
    "            WebDriverWait(driver,3).until(EC.alert_is_present())\n",
    "            alert = driver.switch_to.alert\n",
    "            alert.accept()\n",
    "            print(\"Beneficiario con 21 años\")\n",
    "        except TimeoutException:\n",
    "            miembros = driver.find_element('xpath','//*[@id=\"MainContent_cbohhMember\"]')\n",
    "            Select(miembros).select_by_index(coun)\n",
    "            flag = miembros.get_attribute('value') in BenSalidos              \n",
    "            if flag == False:     \n",
    "                edad = driver.find_element('xpath','//*[@id=\"MainContent_txtAge\"]').get_attribute(\"value\")        \n",
    "                escuela = driver.find_element('xpath','//*[@id=\"MainContent_cboEnrolledInSchool\"]')\n",
    "                actividad = driver.find_element('xpath','//*[@id=\"MainContent_cboEnrolledEconomicActivity\"]')\n",
    "                if int(edad) > 17 and int(edad) < 21:\n",
    "                    Select(escuela).select_by_index(1)\n",
    "                    Select(actividad).select_by_index(2)\n",
    "                else:\n",
    "                    Select(escuela).select_by_index(3)\n",
    "                    Select(actividad).select_by_index(3)\n",
    "                driver.find_element('xpath','//*[@id=\"MainContent_mainPanal\"]/a[7]').click()\n",
    "                Select(driver.find_element('xpath','//*[@id=\"MainContent_cboFoodDeliveryservice\"]')).select_by_index(1)\n",
    "                Select(driver.find_element('xpath','//*[@id=\"MainContent_cboFoodDeliveryservice_dnr\"]')).select_by_index(2)\n",
    "                time.sleep(0.5)\n",
    "                driver.find_element('xpath','//*[@id=\"MainContent_btnsave\"]').click()\n",
    "                wait.until(EC.alert_is_present()).accept()\n",
    "            else:\n",
    "                print('Beneficiario salido')      \n",
    "        \n",
    "        coun += 1\n",
    "    \n",
    "    print('Servicio digitado')\n",
    "    "
   ]
  },
  {
   "cell_type": "code",
   "execution_count": 25,
   "id": "88f4eea2-ebaf-461b-8dc0-eb0cd4efde7f",
   "metadata": {},
   "outputs": [
    {
     "data": {
      "text/plain": [
       "4"
      ]
     },
     "execution_count": 25,
     "metadata": {},
     "output_type": "execute_result"
    }
   ],
   "source": [
    "miembros = driver.find_element('xpath','//*[@id=\"MainContent_cbohhMember\"]')\n",
    "limit = len(miembros.text.split(\"\\n\"))-2\n",
    "limit"
   ]
  },
  {
   "cell_type": "code",
   "execution_count": 78,
   "id": "dabb4535-51a3-4978-8151-1fb7810dda13",
   "metadata": {},
   "outputs": [
    {
     "name": "stdout",
     "output_type": "stream",
     "text": [
      "Servicio digitado\n",
      "Siguiente servicio\n",
      "Servicio digitado\n",
      "Siguiente servicio\n",
      "Se digitaron todos los servicios\n"
     ]
    }
   ],
   "source": [
    "# Inicio\n",
    "\n",
    "col = 15 # Realmente es fila\n",
    "while col < 17:\n",
    "\n",
    "    # Iniciar servicios\n",
    "\n",
    "    driver.get(\"https://www.achievemis.org/DataEntry/service_delivery.aspx?tokenID=&action=\")\n",
    "    time.sleep(2)\n",
    "\n",
    "    # Hogar\n",
    "\n",
    "    driver.find_element('xpath',bd.iloc[0,1]).click()\n",
    "    driver.find_element('xpath', bd.iloc[1,1]).send_keys(dig.iloc[col,0], Keys.ENTER)\n",
    "\n",
    "    # Fecha\n",
    "\n",
    "    ctrl.copy(dig.iloc[col,1])\n",
    "    driver.find_element('xpath',bd.iloc[2,1]).send_keys(Keys.CONTROL, 'v')\n",
    "\n",
    "    visita()\n",
    "    firma()\n",
    "    driver.find_element('xpath','//*[@id=\"MainContent_btnsaveMain\"]').click()\n",
    "    wait.until(EC.alert_is_present()).accept()\n",
    "    beneficiario()\n",
    "    print('Siguiente servicio')    \n",
    "    col += 1\n",
    "    \n",
    "print('Se digitaron todos los servicios')"
   ]
  },
  {
   "cell_type": "code",
   "execution_count": 80,
   "id": "d68620db-5411-481b-acf7-4fb212b707ea",
   "metadata": {},
   "outputs": [
    {
     "name": "stdout",
     "output_type": "stream",
     "text": [
      "Servicio digitado\n"
     ]
    }
   ],
   "source": [
    "beneficiario()"
   ]
  },
  {
   "cell_type": "code",
   "execution_count": null,
   "id": "afb38eba-e723-4769-9dfc-a979b24c876c",
   "metadata": {},
   "outputs": [],
   "source": [
    "driver.find_element('xpath','//*[@id=\"MainContent_btnsave\"]').click()"
   ]
  },
  {
   "cell_type": "code",
   "execution_count": null,
   "id": "28cf6453-8df5-4009-8973-e87c0343669a",
   "metadata": {},
   "outputs": [],
   "source": [
    "def servir():\n",
    "    driver.find_element('xpath','//*[@id=\"MainContent_mainPanal\"]/a['+str(encontrar())+']').click()\n",
    "    \n",
    "    \n",
    "    "
   ]
  },
  {
   "cell_type": "code",
   "execution_count": 96,
   "id": "baf8a2ad-1e6c-4a0a-876f-2891f7f7fa7e",
   "metadata": {},
   "outputs": [],
   "source": [
    "driver.quit()"
   ]
  },
  {
   "cell_type": "code",
   "execution_count": null,
   "id": "8507b6be-2756-4681-918a-a75365cbd009",
   "metadata": {},
   "outputs": [],
   "source": []
  }
 ],
 "metadata": {
  "kernelspec": {
   "display_name": "Python 3 (ipykernel)",
   "language": "python",
   "name": "python3"
  },
  "language_info": {
   "codemirror_mode": {
    "name": "ipython",
    "version": 3
   },
   "file_extension": ".py",
   "mimetype": "text/x-python",
   "name": "python",
   "nbconvert_exporter": "python",
   "pygments_lexer": "ipython3",
   "version": "3.9.13"
  }
 },
 "nbformat": 4,
 "nbformat_minor": 5
}
