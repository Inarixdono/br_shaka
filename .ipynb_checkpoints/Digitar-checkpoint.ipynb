{
 "cells": [
  {
   "cell_type": "code",
   "execution_count": 1012,
   "id": "599636dd",
   "metadata": {},
   "outputs": [],
   "source": [
    "import pandas as pd\n",
    "import pyperclip as ctrl\n",
    "from selenium import webdriver\n",
    "from selenium.webdriver.chrome.service import Service\n",
    "from selenium.webdriver.common.keys import Keys\n",
    "from webdriver_manager.chrome import ChromeDriverManager\n",
    "import time"
   ]
  },
  {
   "cell_type": "code",
   "execution_count": 754,
   "id": "95f0648e",
   "metadata": {},
   "outputs": [],
   "source": [
    "driver = webdriver.Chrome(service=Service(ChromeDriverManager().install()))\n",
    "driver.get(\"https://www.achievemis.org/\")"
   ]
  },
  {
   "cell_type": "code",
   "execution_count": 765,
   "id": "872587a6",
   "metadata": {},
   "outputs": [],
   "source": [
    "driver.find_element('xpath','//*[@id=\"txtUsername\"]').send_keys(\"jenielwtf@gmail.com\")\n",
    "driver.find_element('xpath','//*[@id=\"txtPassword\"]').send_keys(\"1qazxsw2\")\n",
    "driver.find_element('xpath','//*[@id=\"btnLogin\"]').click()"
   ]
  },
  {
   "cell_type": "code",
   "execution_count": 1051,
   "id": "1577a30c",
   "metadata": {
    "scrolled": true
   },
   "outputs": [],
   "source": [
    "# ESCUELA\n",
    "\n",
    "driver.find_element('xpath','//*[@id=\"MainContent_cboEnrolledInSchool\"]').click()\n",
    "driver.find_element('xpath','//*[@id=\"MainContent_cboEnrolledInSchool\"]').send_keys(Keys.DOWN + Keys.DOWN + Keys.DOWN + Keys.ENTER)\n",
    "driver.find_element('xpath','//*[@id=\"MainContent_cboEnrolledEconomicActivity\"]').click()\n",
    "driver.find_element('xpath','//*[@id=\"MainContent_cboEnrolledEconomicActivity\"]').send_keys(Keys.DOWN + Keys.DOWN + Keys.DOWN + Keys.ENTER)\n",
    "\n",
    "driver.find_element('xpath','//*[@id=\"MainContent_mainPanal\"]/a[7]').click()\n",
    "\n",
    "time.sleep(0.3)\n",
    "\n",
    "# MARCAR SERVICIOS\n",
    "\n",
    "driver.find_element('xpath','//*[@id=\"MainContent_cboFoodDeliveryservice\"]').click()\n",
    "driver.find_element('xpath','//*[@id=\"MainContent_cboFoodDeliveryservice\"]').send_keys(Keys.DOWN + Keys.ENTER)\n",
    "\n",
    "driver.find_element('xpath','//*[@id=\"MainContent_cboFoodDeliveryservice_dnr\"]').click()\n",
    "driver.find_element('xpath','//*[@id=\"MainContent_cboFoodDeliveryservice_dnr\"]').send_keys(Keys.DOWN + Keys.DOWN + Keys.ENTER)\n",
    "\n",
    "driver.find_element('xpath','//*[@id=\"MainContent_btnsave\"]').click()"
   ]
  },
  {
   "cell_type": "code",
   "execution_count": 1052,
   "id": "6ac85de0",
   "metadata": {},
   "outputs": [],
   "source": [
    "# SCROLL & SELECCIONAR NUEVO BENEFICIARIO \n",
    "\n",
    "driver.execute_script(\"window.scrollTo(0, 1200)\")\n",
    "\n",
    "driver.find_element('xpath','//*[@id=\"MainContent_cbohhMember\"]').click()\n",
    "driver.find_element('xpath','//*[@id=\"MainContent_cbohhMember\"]').send_keys(Keys.DOWN + Keys.ENTER)"
   ]
  },
  {
   "cell_type": "code",
   "execution_count": 1040,
   "id": "8ab0b7de",
   "metadata": {},
   "outputs": [],
   "source": [
    "# CARGAR NUEVOaaa a06\n",
    "\n",
    "driver.get('https://achievemis.org/DataEntry/service_delivery.aspx?tokenID=&action=')"
   ]
  },
  {
   "cell_type": "code",
   "execution_count": 1008,
   "id": "dccbf9bd",
   "metadata": {},
   "outputs": [],
   "source": [
    "# MARCAR SERVICIOS\n",
    "\n",
    "driver.find_element('xpath','//*[@id=\"MainContent_cboFoodDeliveryservice\"]').click()\n",
    "driver.find_element('xpath','//*[@id=\"MainContent_cboFoodDeliveryservice\"]').send_keys(Keys.DOWN + Keys.ENTER)\n",
    "\n",
    "driver.find_element('xpath','//*[@id=\"MainContent_cboFoodDeliveryservice_dnr\"]').click()\n",
    "driver.find_element('xpath','//*[@id=\"MainContent_cboFoodDeliveryservice_dnr\"]').send_keys(Keys.DOWN + Keys.DOWN + Keys.ENTER)\n",
    "\n",
    "driver.find_element('xpath','//*[@id=\"MainContent_btnsave\"]').click()"
   ]
  },
  {
   "cell_type": "code",
   "execution_count": null,
   "id": "1ad7c5c1",
   "metadata": {},
   "outputs": [],
   "source": []
  },
  {
   "cell_type": "code",
   "execution_count": null,
   "id": "8ef8c59f",
   "metadata": {},
   "outputs": [],
   "source": []
  }
 ],
 "metadata": {
  "kernelspec": {
   "display_name": "Python 3 (ipykernel)",
   "language": "python",
   "name": "python3"
  },
  "language_info": {
   "codemirror_mode": {
    "name": "ipython",
    "version": 3
   },
   "file_extension": ".py",
   "mimetype": "text/x-python",
   "name": "python",
   "nbconvert_exporter": "python",
   "pygments_lexer": "ipython3",
   "version": "3.9.13"
  }
 },
 "nbformat": 4,
 "nbformat_minor": 5
}
