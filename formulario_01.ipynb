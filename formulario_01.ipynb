{
 "cells": [
  {
   "cell_type": "code",
   "execution_count": null,
   "metadata": {},
   "outputs": [],
   "source": [
    "from libreria import Mis\n",
    "from pandas import read_csv\n",
    "from selenium.webdriver.support import expected_conditions as EC\n",
    "from selenium.webdriver.common.keys import Keys\n",
    "import time\n",
    "\n",
    "sesion = Mis()\n",
    "\n",
    "def enviar_datos(ruta, dato):\n",
    "    sesion.elemento(ruta).send_keys(dato)\n",
    "\n",
    "def origen(columna):\n",
    "    lista = read_csv('Archivos/ard001.csv', delimiter=';', index_col= 'id')[columna].tolist()\n",
    "    return lista"
   ]
  },
  {
   "cell_type": "code",
   "execution_count": 16,
   "metadata": {},
   "outputs": [],
   "source": [
    "navegador = origen('navegador')\n",
    "fecha = origen('fecha')\n",
    "nombre = origen('nombre')\n",
    "record = origen('record')\n",
    "fapps = origen('fapps')\n",
    "sexo = origen('sexo')\n",
    "edad = origen('edad')\n",
    "p9 = origen('p9')\n",
    "p10 = origen('p10')\n",
    "p11 = origen('p11')\n",
    "\n",
    "for i in range(0, len(navegador)):\n",
    "\n",
    "    sesion.acceder('https://pactbrmis.org/DataEntry/household_identification.aspx?ids_id=')\n",
    "    enviar_datos('//*[@id=\"MainContent_txtNavigator\"]', navegador[i]) # conectar campo de navegador\n",
    "    sesion.enviar_fecha('//*[@id=\"MainContent_txtDate\"]', fecha[i], True) # conectar campo de fecha\n",
    "    sesion.seleccionar('//*[@id=\"MainContent_cboNgo\"]', 1) # ong\n",
    "    sesion.esperar_recarga(sesion.elemento('//*[@id=\"MainContent_cboNgo\"]'))\n",
    "    sesion.seleccionar('//*[@id=\"MainContent_cboFacility\"]',1) # sai\n",
    "    sesion.esperar_recarga(sesion.elemento('//*[@id=\"MainContent_cboFacility\"]'))\n",
    "    enviar_datos('//*[@id=\"MainContent_txtClientName\"]', nombre[i])\n",
    "    enviar_datos('//*[@id=\"MainContent_txtClinicalID\"]', record[i])\n",
    "    enviar_datos('//*[@id=\"MainContent_txtIdFAPPS\"]', fapps[i])\n",
    "    sesion.seleccionar('//*[@id=\"MainContent_cbogender\"]', sexo[i])\n",
    "    time.sleep(0.5)\n",
    "    sesion.seleccionar('//*[@id=\"MainContent_cboClientContactMode\"]', 1)\n",
    "    time.sleep(0.5)\n",
    "    enviar_datos('//*[@id=\"MainContent_txtCurrentAge\"]',Keys.UP *((edad[i])-14))\n",
    "    sesion.seleccionar('//*[@id=\"MainContent_cboEnrolledOnART\"]',1) # Pregunta 3\n",
    "    time.sleep(0.5)\n",
    "    sesion.seleccionar('//*[@id=\"MainContent_cboHaitianDescent\"]', 1)\n",
    "    time.sleep(0.5)\n",
    "    for b in range(3):\n",
    "        sesion.elemento(f'//*[@id=\"MainContent_lstHaitianDescentCategory_{b}\"]').click()\n",
    "\n",
    "    time.sleep(1)\n",
    "    sesion.seleccionar('//*[@id=\"MainContent_cboAdolescentCaregiver\"]', 2) # 5\n",
    "    time.sleep(1)\n",
    "    sesion.seleccionar('//*[@id=\"MainContent_cboAdultLivingWithChild\"]', 1) # 6\n",
    "    time.sleep(1)\n",
    "    sesion.seleccionar('//*[@id=\"MainContent_cboClientEnrolledOnACHIEVE\"]', p9[i])\n",
    "    time.sleep(1)\n",
    "    if p9[i] == 2:\n",
    "        sesion.seleccionar('//*[@id=\"MainContent_cboConsent\"]', p10[i])\n",
    "        time.sleep(1)\n",
    "        if p10[i] == 2:\n",
    "            p11a = p11[i].split(',')\n",
    "            for b in p11a:\n",
    "                sesion.elemento(f'//*[@id=\"MainContent_lstnonConsentReason_{b}\"]').click()\n",
    "    sesion.elemento('//*[@id=\"MainContent_btnSave\"]').click()\n",
    "    sesion.esperar_alerta()"
   ]
  },
  {
   "cell_type": "code",
   "execution_count": null,
   "metadata": {},
   "outputs": [],
   "source": [
    "sesion.cerrar()"
   ]
  }
 ],
 "metadata": {
  "kernelspec": {
   "display_name": "Python 3",
   "language": "python",
   "name": "python3"
  },
  "language_info": {
   "codemirror_mode": {
    "name": "ipython",
    "version": 3
   },
   "file_extension": ".py",
   "mimetype": "text/x-python",
   "name": "python",
   "nbconvert_exporter": "python",
   "pygments_lexer": "ipython3",
   "version": "3.11.3"
  },
  "orig_nbformat": 4
 },
 "nbformat": 4,
 "nbformat_minor": 2
}
