{
 "cells": [
  {
   "cell_type": "code",
   "execution_count": null,
   "metadata": {},
   "outputs": [],
   "source": [
    "class Persona:\n",
    "    def __init__(self) -> None:\n",
    "        self._nombre = 'Jeniel'\n",
    "        self.edad = 16\n",
    "\n",
    "    def __estado(self) -> str:\n",
    "        if self.edad < 18: return('menor de edad')\n",
    "        else: return('mayor de edad')\n",
    "    \n",
    "    def _hacer(self,accion: str):\n",
    "        print(f'voy a {accion}')\n",
    "\n",
    "    def hablar(self, texto):\n",
    "        print(self._nombre, texto, 'soy', self.__estado())\n",
    "\n",
    "    def _nombreshow(self):\n",
    "        return self.__nombre\n",
    "\n",
    "class Amigo(Persona):\n",
    "\n",
    "    def __init__(self):\n",
    "        super().__init__()\n",
    "\n",
    "    def salir(self):\n",
    "        if self.__estado() == 'menor de edad': print('no puedo salir', self.__estado())\n",
    "        else: print('voy pa la calle')\n",
    "    "
   ]
  },
  {
   "cell_type": "code",
   "execution_count": null,
   "metadata": {},
   "outputs": [],
   "source": [
    "from funciones import lista\n",
    "\n",
    "lista('xPath','XPATH')"
   ]
  },
  {
   "cell_type": "code",
   "execution_count": null,
   "metadata": {},
   "outputs": [],
   "source": []
  }
 ],
 "metadata": {
  "kernelspec": {
   "display_name": "Python 3",
   "language": "python",
   "name": "python3"
  },
  "language_info": {
   "codemirror_mode": {
    "name": "ipython",
    "version": 3
   },
   "file_extension": ".py",
   "mimetype": "text/x-python",
   "name": "python",
   "nbconvert_exporter": "python",
   "pygments_lexer": "ipython3",
   "version": "3.11.3"
  },
  "orig_nbformat": 4
 },
 "nbformat": 4,
 "nbformat_minor": 2
}
