{
 "cells": [
  {
   "cell_type": "code",
   "execution_count": null,
   "metadata": {},
   "outputs": [],
   "source": [
    "import pandas as pd\n",
    "import pyperclip as ctrl\n",
    "from selenium import webdriver\n",
    "from selenium.webdriver.chrome.service import Service\n",
    "from selenium.webdriver.common.keys import Keys\n",
    "from webdriver_manager.chrome import ChromeDriverManager\n",
    "from selenium.webdriver.support.wait import WebDriverWait\n",
    "from selenium.webdriver.support import expected_conditions as EC\n",
    "from selenium.webdriver.support.ui import Select\n",
    "from selenium.webdriver.common.by import By\n",
    "from selenium.webdriver.common.alert import Alert\n",
    "from selenium.common.exceptions import TimeoutException\n",
    "import time\n",
    "from datetime import datetime"
   ]
  },
  {
   "cell_type": "code",
   "execution_count": null,
   "metadata": {},
   "outputs": [],
   "source": [
    "class Mis:\n",
    "    def __init__(self):\n",
    "        self.driver = webdriver.Chrome(service=Service('driver\\chromedriver.exe'))\n",
    "        self.wait = WebDriverWait(self.driver,10)\n",
    "        self.driver.get(\"https://pactbrmis.org/Account/Login.aspx\")\n",
    "        self.login()\n",
    "    \n",
    "    def login(self): # Iniciar sesion\n",
    "        self.driver.find_element('xpath','//*[@id=\"txtUsername\"]').send_keys(\"jenielwtf@gmail.com\")\n",
    "        self.driver.find_element('xpath','//*[@id=\"txtPassword\"]').send_keys(\"1qazxsw2\")\n",
    "        self.driver.find_element('xpath','//*[@id=\"btnLogin\"]').click()   \n",
    "\n",
    "    def acceder(self,enlace):\n",
    "        self.driver.get(enlace)\n",
    "        \n",
    "    def elemento(self, ruta):\n",
    "        elemento = self.driver.find_element('xpath',ruta)\n",
    "        return(elemento)\n",
    "\n",
    "    def cerrar(self):\n",
    "        self.driver.close()\n"
   ]
  },
  {
   "cell_type": "code",
   "execution_count": null,
   "metadata": {},
   "outputs": [],
   "source": [
    "class Graduate(Mis): \n",
    "    def set_fecha(self, fecha):\n",
    "        self.elemento('//*[@id=\"MainContent_txtDateAssessed\"]').send_keys(fecha)\n",
    "\n",
    "    def select_hogar(self, hogar):\n",
    "        self.elemento('//*[@id=\"select2-MainContent_ddlHHUniqueID-container\"]').click()\n",
    "        self.elemento('/html/body/span/span/span[1]/input').send_keys(hogar, Keys.ENTER)"
   ]
  },
  {
   "cell_type": "code",
   "execution_count": null,
   "metadata": {},
   "outputs": [],
   "source": [
    "def format_fecha(fecha, from_csv = False):\n",
    "    if not from_csv:\n",
    "        if len(fecha) <= 5:\n",
    "            fecha = datetime.strptime(fecha + '/23', '%d/%m/%y').strftime('%d/%m/%Y')\n",
    "        else:\n",
    "            fecha = datetime.strptime(fecha, '%d/%m/%y').strftime('%d/%m/%Y')\n",
    "        return fecha\n",
    "    else:\n",
    "        fecha = datetime.strptime(fecha, '%d/%m/%Y').strftime('%d/%m/%Y')\n",
    "        return fecha\n"
   ]
  },
  {
   "cell_type": "code",
   "execution_count": null,
   "metadata": {},
   "outputs": [],
   "source": [
    "normal = '02/02'\n",
    "print(len(normal))"
   ]
  },
  {
   "cell_type": "code",
   "execution_count": null,
   "metadata": {},
   "outputs": [],
   "source": [
    "hola.cerrar()"
   ]
  }
 ],
 "metadata": {
  "kernelspec": {
   "display_name": "Python 3",
   "language": "python",
   "name": "python3"
  },
  "language_info": {
   "codemirror_mode": {
    "name": "ipython",
    "version": 3
   },
   "file_extension": ".py",
   "mimetype": "text/x-python",
   "name": "python",
   "nbconvert_exporter": "python",
   "pygments_lexer": "ipython3",
   "version": "3.11.3"
  },
  "orig_nbformat": 4
 },
 "nbformat": 4,
 "nbformat_minor": 2
}
