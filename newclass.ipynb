{
 "cells": [
  {
   "cell_type": "code",
   "execution_count": null,
   "metadata": {},
   "outputs": [],
   "source": [
    "class Persona:\n",
    "    def __init__(self) -> None:\n",
    "        self._nombre = 'Jeniel'\n",
    "        self.edad = 16\n",
    "    \n",
    "    def __hacer(self,accion: str):\n",
    "        return f'voy a {accion}'\n",
    "\n",
    "    def hablar(self, texto):\n",
    "        print(self._nombre, texto, 'soy y', self.__hacer('mear'))\n",
    "    \n",
    "class Fulano(Persona):\n",
    "    def ir(self, lugar):\n",
    "        print('estoy en ',self.__hacer('comprar'))"
   ]
  },
  {
   "cell_type": "code",
   "execution_count": null,
   "metadata": {},
   "outputs": [],
   "source": [
    "from funciones import lista\n",
    "\n",
    "meses = {'Jan': '01',\n",
    "         'Feb': '02',\n",
    "         'Mar': '03',\n",
    "         'Apr': '04',\n",
    "         'May': '05',\n",
    "         'Jun': '06',\n",
    "         'Jul': '07',\n",
    "         'Aug': '08',\n",
    "         'Sep': '09',\n",
    "         'Oct': '10',\n",
    "         'Nov': '11',\n",
    "         'Dec': '12'}\n",
    "\n",
    "fechas = lista('FECHA','FECHAS')\n",
    "\n",
    "def cambiar_formato(listado):\n",
    "    nueva_lista = []\n",
    "    nueva_fecha = ''\n",
    "    for i in fechas:\n",
    "        segmento = i.split('-')\n",
    "        segmento[1] = meses[segmento[1]]\n",
    "        nueva_fecha = (f'{segmento[2]}/{segmento[1]}/{segmento[0]}')\n",
    "        nueva_lista.append(nueva_fecha)\n",
    "    return nueva_lista\n",
    "\n",
    "enviar = cambiar_formato(fechas)"
   ]
  }
 ],
 "metadata": {
  "kernelspec": {
   "display_name": "Python 3",
   "language": "python",
   "name": "python3"
  },
  "language_info": {
   "codemirror_mode": {
    "name": "ipython",
    "version": 3
   },
   "file_extension": ".py",
   "mimetype": "text/x-python",
   "name": "python",
   "nbconvert_exporter": "python",
   "pygments_lexer": "ipython3",
   "version": "3.11.3"
  },
  "orig_nbformat": 4
 },
 "nbformat": 4,
 "nbformat_minor": 2
}
