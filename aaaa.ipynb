{
 "cells": [
  {
   "cell_type": "code",
   "execution_count": null,
   "id": "43934d28-2cc2-4ef3-9e0f-f679c75315c2",
   "metadata": {},
   "outputs": [],
   "source": [
    "# Librerias\n",
    "\n",
    "import pandas as pd\n",
    "import pyperclip as ctrl\n",
    "from selenium import webdriver\n",
    "from selenium.webdriver.chrome.service import Service\n",
    "from selenium.webdriver.common.keys import Keys\n",
    "from webdriver_manager.chrome import ChromeDriverManager\n",
    "from selenium.webdriver.support.wait import WebDriverWait\n",
    "from selenium.webdriver.support import expected_conditions as EC\n",
    "from selenium.webdriver.support.ui import Select\n",
    "from selenium.webdriver.common.by import By\n",
    "from selenium.webdriver.common.alert import Alert\n",
    "from selenium.common.exceptions import TimeoutException\n",
    "import time\n",
    "\n",
    "#Origen de informacion\n",
    "\n",
    "#Funciones\n",
    "\n",
    "def login(): # Iniciar sesion\n",
    "    driver.find_element('xpath','//*[@id=\"txtUsername\"]').send_keys(\"jenielwtf@gmail.com\")\n",
    "    driver.find_element('xpath','//*[@id=\"txtPassword\"]').send_keys(\"1qazxsw2\")\n",
    "    driver.find_element('xpath','//*[@id=\"btnLogin\"]').click()    "
   ]
  },
  {
   "cell_type": "code",
   "execution_count": null,
   "id": "34bfce6b-46da-4dd1-b9cf-2ed98766a7bc",
   "metadata": {},
   "outputs": [],
   "source": [
    "driver = webdriver.Chrome(service=Service(ChromeDriverManager().install()))\n",
    "driver.get(\"https://www.achievemis.org/\")\n",
    "login()\n",
    "wait = WebDriverWait(driver,4)"
   ]
  },
  {
   "cell_type": "code",
   "execution_count": null,
   "id": "f904a784-446f-4ff3-b63a-204fbfb481a5",
   "metadata": {},
   "outputs": [],
   "source": [
    "fecha = driver.find_element('xpath','//*[@id=\"MainContent_txtAdherenceDate\"]')\n",
    "hogares = driver.find_element('xpath','//*[@id=\"select2-MainContent_cboHHList-container\"]')\n",
    "#inphogar = driver.find_element('xpath','/html/body/span/span/span[1]/input')\n",
    "beneficiario = driver.find_element('xpath','//*[@id=\"select2-MainContent_cboHHMember-container\"]')\n",
    "#inpbeneficiario = driver.find_element('xpath','/html/body/span/span/span[1]/input')\n",
    "inpedad = driver.find_element('xpath','//*[@id=\"MainContent_txtAgeYear\"]')\n",
    "p1 = driver.find_element('xpath','//*[@id=\"MainContent_cboFirstAssessment\"]')\n",
    "p4 = driver.find_element('xpath','//*[@id=\"MainContent_cboMissedClinicAppointment\"]')\n",
    "p7 = driver.find_element('xpath','//*[@id=\"MainContent_cboPlwhMember\"]')\n",
    "p8 = driver.find_element('xpath','//*[@id=\"MainContent_txtArtVisitDate\"]')\n",
    "p9 = driver.find_element('xpath','//*[@id=\"MainContent_cboAmId\"]')\n",
    "p13 = driver.find_element('xpath','//*[@id=\"MainContent_cboArtTillNextAppointment\"]')\n",
    "p14 = driver.find_element('xpath','//*[@id=\"MainContent_cboAmsId\"]')\n",
    "esp14 = driver.find_element('xpath','//*[@id=\"MainContent_txtArtMonthsSupplyOther\"]')\n",
    "p15 = driver.find_element('xpath','//*[@id=\"MainContent_cboYndkIdEverVLTest\"]')\n",
    "p16 = driver.find_element('xpath','//*[@id=\"MainContent_txtViralTestDate\"]')\n",
    "esp16 = driver.find_element('xpath','//*[@id=\"MainContent_chkViralTestDateDontKnow\"]')\n",
    "p17 = driver.find_element('xpath','//*[@id=\"MainContent_txtViralTestResult\"]')\n",
    "save = driver.find_element('xpath','//*[@id=\"MainContent_txtViralTestResult\"]')"
   ]
  }
 ],
 "metadata": {
  "kernelspec": {
   "display_name": "Python 3.9.13 ('base')",
   "language": "python",
   "name": "python3"
  },
  "language_info": {
   "codemirror_mode": {
    "name": "ipython",
    "version": 3
   },
   "file_extension": ".py",
   "mimetype": "text/x-python",
   "name": "python",
   "nbconvert_exporter": "python",
   "pygments_lexer": "ipython3",
   "version": "3.9.13"
  },
  "vscode": {
   "interpreter": {
    "hash": "0ed8b1f1204e3ec9fd00160a1836bd979d4552f7e99d1a18dc9610716eedd92b"
   }
  }
 },
 "nbformat": 4,
 "nbformat_minor": 5
}
