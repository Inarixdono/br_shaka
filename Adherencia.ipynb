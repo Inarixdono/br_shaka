{
 "cells": [
  {
   "cell_type": "code",
   "execution_count": null,
   "metadata": {},
   "outputs": [],
   "source": [
    "# Librerías \n",
    "\n",
    "import pandas as pd\n",
    "import pyperclip as ctrl\n",
    "from selenium import webdriver\n",
    "from selenium.webdriver.chrome.service import Service\n",
    "from selenium.webdriver.common.keys import Keys\n",
    "from webdriver_manager.chrome import ChromeDriverManager\n",
    "from selenium.webdriver.support.wait import WebDriverWait\n",
    "from selenium.webdriver.support import expected_conditions as EC\n",
    "from selenium.webdriver.support.ui import Select\n",
    "from selenium.webdriver.common.by import By\n",
    "from selenium.webdriver.common.alert import Alert\n",
    "from selenium.common.exceptions import TimeoutException\n",
    "import time\n",
    "from datetime import datetime\n",
    "\n",
    "\n",
    "def login(): # Iniciar sesion\n",
    "    driver.find_element('xpath','//*[@id=\"txtUsername\"]').send_keys(\"jenielwtf@gmail.com\")\n",
    "    driver.find_element('xpath','//*[@id=\"txtPassword\"]').send_keys(\"1qazxsw2\")\n",
    "    driver.find_element('xpath','//*[@id=\"btnLogin\"]').click()  "
   ]
  },
  {
   "cell_type": "code",
   "execution_count": null,
   "metadata": {},
   "outputs": [],
   "source": [
    "# Abrir navegador e iniciar sesion en el MIS\n",
    "\n",
    "driver = webdriver.Chrome(service=Service('driver\\chromedriver.exe'))\n",
    "driver.get(\"https://pactbrmis.org/Account/Home.aspx\")\n",
    "login()\n",
    "wait = WebDriverWait(driver,4)"
   ]
  },
  {
   "cell_type": "code",
   "execution_count": null,
   "metadata": {},
   "outputs": [],
   "source": [
    "repetir = 0\n",
    "\n",
    "while repetir < 50:\n",
    "\n",
    "    driver.get('https://pactbrmis.org/DataEntry/adherence.aspx')\n",
    "\n",
    "    input_fecha = driver.find_element('xpath','//*[@id=\"MainContent_txtAdherenceDate\"]')\n",
    "    set_fecha = datetime.strptime(input(\"Fecha actual\") + \"/05/23\", '%d/%m/%y')\n",
    "    fecha = set_fecha.strftime('%d/%m/%Y')\n",
    "    ctrl.copy(fecha)\n",
    "    input_fecha.send_keys(Keys.CONTROL, 'v', Keys.ENTER)\n",
    "    driver.find_element('xpath','//*[@id=\"select2-MainContent_cboHHList-container\"]').click()\n",
    "    hogar = input(\"Código del hogar\")\n",
    "    driver.find_element('xpath','/html/body/span/span/span[1]/input').send_keys(hogar, Keys.ENTER)\n",
    "    beneficiario = input(\"Beneficiario\")\n",
    "    driver.find_element('xpath','//*[@id=\"select2-MainContent_cboHHMember-container\"]').click()\n",
    "    driver.find_element('xpath','/html/body/span/span/span[1]/input').send_keys(hogar + \"/\" + beneficiario, Keys.ENTER)\n",
    "    driver.execute_script('window.scroll(0,800)')\n",
    "    entrada = input(2820)\n",
    "    driver.find_element('xpath','//*[@id=\"MainContent_txtAgeYear\"]').send_keys(entrada)\n",
    "\n",
    "    p1 = driver.find_element('xpath','//*[@id=\"MainContent_cboFirstAssessment\"]')\n",
    "    Select(p1).select_by_index(2)\n",
    "    p4 = driver.find_element('xpath','//*[@id=\"MainContent_cboMissedClinicAppointment\"]')\n",
    "    Select(p4).select_by_index(2)\n",
    "    entrada = input(\"Próxima cita\")\n",
    "    p7 = driver.find_element('xpath','//*[@id=\"MainContent_cboPlwhMember\"]')\n",
    "    Select(p7).select_by_index(1)\n",
    "\n",
    "    input_fecha = driver.find_element('xpath','//*[@id=\"MainContent_txtArtVisitDate\"]')\n",
    "    set_fecha = datetime.strptime(entrada + '/23', '%d/%m/%y')\n",
    "    fecha = set_fecha.strftime('%d/%m/%Y')\n",
    "    ctrl.copy(fecha)\n",
    "    input_fecha.send_keys(Keys.CONTROL, 'v', Keys.ENTER)\n",
    "\n",
    "    p9 = driver.find_element('xpath','//*[@id=\"MainContent_cboAmId\"]')\n",
    "    Select(p9).select_by_index(2)\n",
    "\n",
    "    entrada = input()\n",
    "    Select(driver.find_element('xpath','//*[@id=\"MainContent_cboArtTillNextAppointment\"]')).select_by_index(int(entrada[0]))\n",
    "    if int(entrada) != 4:\n",
    "        Select(driver.find_element('xpath','//*[@id=\"MainContent_cboAmsId\"]')).select_by_index(int(entrada[1]))\n",
    "    else:\n",
    "        Select(driver.find_element('xpath','//*[@id=\"MainContent_cboAmsId\"]')).select_by_index(int(entrada[1]))\n",
    "        entrada = input()\n",
    "        driver.find_element('xpath','//*[@id=\"MainContent_txtArtMonthsSupplyOther\"]').send_keys(entrada + ' meses')\n",
    "\n",
    "    p15 = driver.find_element('xpath','//*[@id=\"MainContent_cboYndkIdEverVLTest\"]')\n",
    "    Select(p15).select_by_index(1)\n",
    "\n",
    "    entrada = input()\n",
    "    input_fecha = driver.find_element('xpath','//*[@id=\"MainContent_txtViralTestDate\"]')\n",
    "    set_fecha = datetime.strptime(entrada, '%d/%m/%y')\n",
    "    fecha = set_fecha.strftime('%d/%m/%Y')\n",
    "    ctrl.copy(fecha)\n",
    "    input_fecha.send_keys(Keys.CONTROL, 'v', Keys.ENTER)\n",
    "\n",
    "    entrada = input()\n",
    "    driver.find_element('xpath','//*[@id=\"MainContent_txtViralTestResult\"]').send_keys(entrada, Keys.ENTER)\n",
    "    wait.until(EC.alert_is_present()).accept()\n",
    "    repetir += 1"
   ]
  },
  {
   "cell_type": "code",
   "execution_count": null,
   "metadata": {},
   "outputs": [],
   "source": [
    "entrada = input()\n",
    "input_fecha = driver.find_element('xpath','//*[@id=\"MainContent_txtAdherenceDate\"]')\n",
    "set_fecha = datetime.strptime(entrada, '%d/%m/%y')\n",
    "fecha = set_fecha.strftime('%d/%m/%Y')\n",
    "ctrl.copy(fecha)\n",
    "input_fecha.send_keys(Keys.CONTROL, 'v', Keys.ENTER)"
   ]
  },
  {
   "cell_type": "code",
   "execution_count": null,
   "metadata": {},
   "outputs": [],
   "source": [
    "driver.execute_script(\"window.scrollTo(0,3060)\")"
   ]
  },
  {
   "cell_type": "code",
   "execution_count": 6,
   "metadata": {},
   "outputs": [],
   "source": [
    "driver.quit() "
   ]
  }
 ],
 "metadata": {
  "kernelspec": {
   "display_name": "Python 3.9.13 ('base')",
   "language": "python",
   "name": "python3"
  },
  "language_info": {
   "codemirror_mode": {
    "name": "ipython",
    "version": 3
   },
   "file_extension": ".py",
   "mimetype": "text/x-python",
   "name": "python",
   "nbconvert_exporter": "python",
   "pygments_lexer": "ipython3",
   "version": "3.11.3"
  },
  "orig_nbformat": 4,
  "vscode": {
   "interpreter": {
    "hash": "0ed8b1f1204e3ec9fd00160a1836bd979d4552f7e99d1a18dc9610716eedd92b"
   }
  }
 },
 "nbformat": 4,
 "nbformat_minor": 2
}
