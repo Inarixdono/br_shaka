{
 "cells": [
  {
   "cell_type": "code",
   "execution_count": null,
   "metadata": {},
   "outputs": [],
   "source": [
    "# Adherencia\n",
    "\n",
    "from formulario_011 import Adherencia\n",
    "\n",
    "sesion = Adherencia\n",
    "sesion.main()"
   ]
  },
  {
   "cell_type": "code",
   "execution_count": null,
   "metadata": {},
   "outputs": [],
   "source": [
    "# Actualizar servicios\n",
    "\n",
    "from formulario_06 import Servicio\n",
    "\n",
    "sesion = Servicio()\n"
   ]
  },
  {
   "cell_type": "code",
   "execution_count": null,
   "metadata": {},
   "outputs": [],
   "source": [
    "from pandas import read_csv\n",
    "\n",
    "fila = 0\n",
    "df = read_csv(r'Archivos\\Servir.csv', delimiter= ';', index_col= 'ID',\n",
    "              dtype= {'beneficiaries_served': str})\n",
    "valores = f', \"{df.general_service[fila]}\", \"{df.general_donor[fila]}\", \"{df.beneficiaries_served[fila]}\", \"{df.individual_service[fila]}\", \"{df.individual_donor[fila]}\"'\n",
    "valores2 = ', \"{}\", \"{}\", \"{}\", \"{}\", \"{}\"'.format(\n",
    "    df.general_service[fila], df.general_donor[fila], df.beneficiaries_served[fila], \n",
    "    df.individual_service[fila], df.individual_donor[fila])\n",
    "\n",
    "valores == valores2"
   ]
  },
  {
   "cell_type": "code",
   "execution_count": 16,
   "metadata": {},
   "outputs": [],
   "source": [
    "from database import Database\n",
    "from pandas import read_csv\n",
    "\n",
    "df = read_csv(r'Archivos\\Servir.csv', delimiter= ';', index_col= 'ID',\n",
    "              dtype= {'beneficiaries_served': str})\n",
    "\n",
    "bd = Database('servicios_shaka')\n",
    "\n",
    "row = 0\n",
    "columns = [i for i in range(11) if i not in [0, 1, 4, 5]]\n",
    "bd.insert_service('{}, \"{}\", {}, {}, \"{}\", \"{}\", \"{}\", \"{}\", \"{}\"'.format(\n",
    "    bd.return_id_hogar(df.home[row]), '2023-10-06', *df.iloc[row, columns]))\n"
   ]
  },
  {
   "cell_type": "code",
   "execution_count": 18,
   "metadata": {},
   "outputs": [
    {
     "data": {
      "text/plain": [
       "Index(['home', 'date', 'reason', 'place', 'caregiver', 'Firma',\n",
       "       'general_service', 'general_donor', 'beneficiaries_served',\n",
       "       'individual_service', 'individual_donor'],\n",
       "      dtype='object')"
      ]
     },
     "execution_count": 18,
     "metadata": {},
     "output_type": "execute_result"
    }
   ],
   "source": [
    "df.columns"
   ]
  },
  {
   "cell_type": "code",
   "execution_count": 19,
   "metadata": {},
   "outputs": [],
   "source": [
    "bd.close_connection()"
   ]
  },
  {
   "cell_type": "code",
   "execution_count": null,
   "metadata": {},
   "outputs": [],
   "source": []
  }
 ],
 "metadata": {
  "kernelspec": {
   "display_name": "Python 3",
   "language": "python",
   "name": "python3"
  },
  "language_info": {
   "codemirror_mode": {
    "name": "ipython",
    "version": 3
   },
   "file_extension": ".py",
   "mimetype": "text/x-python",
   "name": "python",
   "nbconvert_exporter": "python",
   "pygments_lexer": "ipython3",
   "version": "3.11.3"
  },
  "orig_nbformat": 4
 },
 "nbformat": 4,
 "nbformat_minor": 2
}
