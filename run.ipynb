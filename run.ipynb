{
 "cells": [
  {
   "cell_type": "code",
   "execution_count": null,
   "metadata": {},
   "outputs": [],
   "source": [
    "# Adherencia\n",
    "\n",
    "from formulario_011 import Adherencia\n",
    "\n",
    "sesion = Adherencia\n",
    "sesion.main()"
   ]
  },
  {
   "cell_type": "code",
   "execution_count": null,
   "metadata": {},
   "outputs": [],
   "source": [
    "# Actualizar servicios\n",
    "\n",
    "from formulario_06 import Servicio\n",
    "\n",
    "sesion = Servicio()\n"
   ]
  },
  {
   "cell_type": "code",
   "execution_count": null,
   "metadata": {},
   "outputs": [],
   "source": [
    "from pandas import read_csv\n",
    "\n",
    "fila = 0\n",
    "df = read_csv(r'Archivos\\Servir.csv', delimiter= ';', index_col= 'ID',\n",
    "              dtype= {'beneficiaries_served': str})\n",
    "valores = f', \"{df.general_service[fila]}\", \"{df.general_donor[fila]}\", \"{df.beneficiaries_served[fila]}\", \"{df.individual_service[fila]}\", \"{df.individual_donor[fila]}\"'\n",
    "valores2 = ', \"{}\", \"{}\", \"{}\", \"{}\", \"{}\"'.format(\n",
    "    df.general_service[fila], df.general_donor[fila], df.beneficiaries_served[fila], \n",
    "    df.individual_service[fila], df.individual_donor[fila])\n",
    "\n",
    "valores == valores2"
   ]
  },
  {
   "cell_type": "code",
   "execution_count": null,
   "metadata": {},
   "outputs": [],
   "source": [
    "from database import Database\n",
    "\n",
    "prueba = Database('servicios')\n",
    "print(prueba.return_id_vih('PU/GRE/CG/0253/01'))\n",
    "prueba.close_connection()"
   ]
  },
  {
   "cell_type": "code",
   "execution_count": null,
   "metadata": {},
   "outputs": [],
   "source": []
  }
 ],
 "metadata": {
  "kernelspec": {
   "display_name": "Python 3",
   "language": "python",
   "name": "python3"
  },
  "language_info": {
   "codemirror_mode": {
    "name": "ipython",
    "version": 3
   },
   "file_extension": ".py",
   "mimetype": "text/x-python",
   "name": "python",
   "nbconvert_exporter": "python",
   "pygments_lexer": "ipython3",
   "version": "3.11.3"
  },
  "orig_nbformat": 4
 },
 "nbformat": 4,
 "nbformat_minor": 2
}
